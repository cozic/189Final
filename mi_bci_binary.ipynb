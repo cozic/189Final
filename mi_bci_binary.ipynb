{
 "cells": [
  {
   "attachments": {},
   "cell_type": "markdown",
   "metadata": {},
   "source": [
    "## Linear SVM Classifier on the Motor Imagery vs Rest - Low-Cost EEG System Dataset"
   ]
  },
  {
   "cell_type": "code",
   "execution_count": null,
   "metadata": {},
   "outputs": [],
   "source": [
    "import mne\n",
    "import matplotlib.pyplot as plt\n",
    "import os\n",
    "import pandas as pd\n",
    "import numpy as np\n",
    "from sklearn.model_selection import train_test_split\n",
    "from sklearn.discriminant_analysis import LinearDiscriminantAnalysis as LDA\n",
    "from sklearn.linear_model import LogisticRegression\n",
    "from sklearn.svm import SVC\n",
    "from sklearn.decomposition import FastICA\n",
    "from sklearn.model_selection import ShuffleSplit, StratifiedShuffleSplit, cross_val_score\n",
    "from sklearn.pipeline import Pipeline\n",
    "from sklearn.pipeline import make_pipeline\n",
    "from sklearn.preprocessing import StandardScaler\n",
    "from sklearn.neighbors import KNeighborsClassifier\n",
    "from mne.decoding import CSP\n",
    "from mne.preprocessing import ICA\n",
    "from scipy.stats import pearsonr"
   ]
  },
  {
   "cell_type": "code",
   "execution_count": 32,
   "metadata": {},
   "outputs": [],
   "source": [
    "def loadData(): \n",
    "    #get all subject list\n",
    "    participants_info = pd.read_csv('participants.tsv', sep='\\t')\n",
    "    participants = participants_info.participant_id.tolist()\n",
    "\n",
    "    # get edf data for the each particpant\n",
    "    files = []\n",
    "    for sub in participants: \n",
    "        sub_path = sub + '/eeg/'\n",
    "        # get all edf files\n",
    "        part_files = [fn for fn in os.listdir(sub_path) if fn.endswith('edf')]\n",
    "        files.append(part_files)\n",
    "    \n",
    "    return files, participants\n"
   ]
  },
  {
   "cell_type": "code",
   "execution_count": 33,
   "metadata": {},
   "outputs": [],
   "source": [
    "def loadRaws(files, participants): \n",
    "    # read raw eeglab data and append to a list\n",
    "    raws = []\n",
    "    for i in range(len(files)):\n",
    "        temp = []\n",
    "        for file in files[i]: \n",
    "            path = participants[i] + '/eeg/'\n",
    "            raw = mne.io.read_raw_edf(path+file, preload=True)\n",
    "            temp.append(raw)\n",
    "        raws.append(temp)\n",
    "\n",
    "    # assert(len(raws) == 109 and len(raws[0]) == 14)\n",
    "    raws = [raw for sublist in raws for raw in sublist]\n",
    "    # assert(len(raws) == 1526)\n",
    "    return raws"
   ]
  },
  {
   "cell_type": "code",
   "execution_count": 34,
   "metadata": {},
   "outputs": [],
   "source": [
    "%%capture\n",
    "files, participants = loadData()\n",
    "raw_list = loadRaws(files, participants)\n",
    "# resample frequency may affect data resolution\n",
    "raw_list_resampled = [r.resample(240, npad='auto') for r in raw_list]"
   ]
  },
  {
   "cell_type": "code",
   "execution_count": 35,
   "metadata": {},
   "outputs": [],
   "source": [
    "raw = mne.concatenate_raws(raw_list_resampled)"
   ]
  },
  {
   "cell_type": "code",
   "execution_count": 36,
   "metadata": {},
   "outputs": [
    {
     "name": "stdout",
     "output_type": "stream",
     "text": [
      "Filtering raw data in 50 contiguous segments\n",
      "Setting up band-pass filter from 8 - 30 Hz\n",
      "\n",
      "FIR filter parameters\n",
      "---------------------\n",
      "Designing a one-pass, zero-phase, non-causal bandpass filter:\n",
      "- Windowed time-domain design (firwin) method\n",
      "- Hamming window with 0.0194 passband ripple and 53 dB stopband attenuation\n",
      "- Lower passband edge: 8.00\n",
      "- Lower transition bandwidth: 2.00 Hz (-6 dB cutoff frequency: 7.00 Hz)\n",
      "- Upper passband edge: 30.00 Hz\n",
      "- Upper transition bandwidth: 7.50 Hz (-6 dB cutoff frequency: 33.75 Hz)\n",
      "- Filter length: 397 samples (1.654 sec)\n",
      "\n"
     ]
    },
    {
     "name": "stderr",
     "output_type": "stream",
     "text": [
      "[Parallel(n_jobs=1)]: Using backend SequentialBackend with 1 concurrent workers.\n",
      "[Parallel(n_jobs=1)]: Done   1 out of   1 | elapsed:    0.0s remaining:    0.0s\n",
      "[Parallel(n_jobs=1)]: Done   2 out of   2 | elapsed:    0.0s remaining:    0.0s\n",
      "[Parallel(n_jobs=1)]: Done   3 out of   3 | elapsed:    0.0s remaining:    0.0s\n",
      "[Parallel(n_jobs=1)]: Done   4 out of   4 | elapsed:    0.0s remaining:    0.0s\n",
      "[Parallel(n_jobs=1)]: Done  15 out of  15 | elapsed:    0.0s finished\n"
     ]
    },
    {
     "name": "stdout",
     "output_type": "stream",
     "text": [
      "Setting up band-stop filter from 49 - 51 Hz\n",
      "\n",
      "FIR filter parameters\n",
      "---------------------\n",
      "Designing a one-pass, zero-phase, non-causal bandstop filter:\n",
      "- Windowed time-domain design (firwin) method\n",
      "- Hamming window with 0.0194 passband ripple and 53 dB stopband attenuation\n",
      "- Lower passband edge: 49.38\n",
      "- Lower transition bandwidth: 0.50 Hz (-6 dB cutoff frequency: 49.12 Hz)\n",
      "- Upper passband edge: 50.62 Hz\n",
      "- Upper transition bandwidth: 0.50 Hz (-6 dB cutoff frequency: 50.88 Hz)\n",
      "- Filter length: 1585 samples (6.604 sec)\n",
      "\n"
     ]
    },
    {
     "name": "stderr",
     "output_type": "stream",
     "text": [
      "[Parallel(n_jobs=1)]: Using backend SequentialBackend with 1 concurrent workers.\n",
      "[Parallel(n_jobs=1)]: Done   1 out of   1 | elapsed:    0.0s remaining:    0.0s\n",
      "[Parallel(n_jobs=1)]: Done   2 out of   2 | elapsed:    0.1s remaining:    0.0s\n",
      "[Parallel(n_jobs=1)]: Done   3 out of   3 | elapsed:    0.1s remaining:    0.0s\n",
      "[Parallel(n_jobs=1)]: Done   4 out of   4 | elapsed:    0.2s remaining:    0.0s\n"
     ]
    },
    {
     "name": "stdout",
     "output_type": "stream",
     "text": [
      "Fitting ICA to data using 15 channels (please be patient, this may take a while)\n"
     ]
    },
    {
     "name": "stderr",
     "output_type": "stream",
     "text": [
      "[Parallel(n_jobs=1)]: Done  15 out of  15 | elapsed:    1.1s finished\n"
     ]
    },
    {
     "name": "stdout",
     "output_type": "stream",
     "text": [
      "Selecting by number: 10 components\n",
      "Fitting ICA took 34.0s.\n"
     ]
    }
   ],
   "source": [
    "# Apply a band-pass filter between 8 and 30 Hz (mu 8-13, beta 13-30) - motor imagery related band\n",
    "mubeta_raw = raw.filter(l_freq=8, h_freq=30)\n",
    "mubeta_raw = mubeta_raw.notch_filter(50) # remove power line noise\n",
    "# Apply ICA\n",
    "ica = ICA(n_components=10, random_state=42)\n",
    "mubeta_raw = ica.fit(mubeta_raw)"
   ]
  },
  {
   "cell_type": "code",
   "execution_count": 37,
   "metadata": {},
   "outputs": [
    {
     "name": "stdout",
     "output_type": "stream",
     "text": [
      "Used Annotations descriptions: ['OVTK_GDF_Correct', 'OVTK_GDF_Cross_On_Screen', 'OVTK_GDF_End_Of_Session', 'OVTK_GDF_End_Of_Trial', 'OVTK_GDF_Feedback_Continuous', 'OVTK_GDF_Incorrect', 'OVTK_GDF_Right', 'OVTK_GDF_Start_Of_Trial', 'OVTK_GDF_Tongue', 'OVTK_StimulationId_BaselineStart', 'OVTK_StimulationId_BaselineStop', 'OVTK_StimulationId_Beep', 'OVTK_StimulationId_ExperimentStart', 'OVTK_StimulationId_ExperimentStop', 'OVTK_StimulationId_Train']\n",
      "Used Annotations descriptions: ['OVTK_GDF_Right', 'OVTK_GDF_Tongue']\n"
     ]
    }
   ],
   "source": [
    "all_events, event_dict =  mne.events_from_annotations(raw);\n",
    "# get only event from MI (right) and rest (tongue)\n",
    "env = {\"OVTK_GDF_Right\": 7, \"OVTK_GDF_Tongue\": 9}\n",
    "events, MI_events_dict = mne.events_from_annotations(raw, event_id=env)"
   ]
  },
  {
   "cell_type": "code",
   "execution_count": 38,
   "metadata": {},
   "outputs": [
    {
     "name": "stdout",
     "output_type": "stream",
     "text": [
      "Not setting metadata\n",
      "1690 matching events found\n",
      "No baseline correction applied\n",
      "0 projection items activated\n",
      "Using data from preloaded Raw for 1690 events and 421 original time points ...\n",
      "0 bad epochs dropped\n"
     ]
    }
   ],
   "source": [
    "#epoch the data with the event info\n",
    "# we should get 20 trials for each condition\n",
    "epochs = mne.Epochs(raw, events, tmin=.75, tmax=2.5, baseline=None)\n",
    "epochs.load_data()\n",
    "\n",
    "mubeta_data = epochs.get_data()\n",
    "mubeta_labels = epochs.events[:, -1]\n",
    "\n",
    "# Define the CSP and LDA pipeline\n",
    "csp = CSP(n_components=50, reg=None, log=True)\n",
    "\n",
    "svc = SVC(kernel='rbf', C=50)\n",
    "csp_pipeline = make_pipeline(csp, StandardScaler(), svc)\n",
    "\n",
    "cv = ShuffleSplit(5, test_size=0.2, random_state=42)"
   ]
  },
  {
   "cell_type": "code",
   "execution_count": 39,
   "metadata": {},
   "outputs": [],
   "source": [
    "%%capture\n",
    "muband_scores = cross_val_score(csp_pipeline, mubeta_data, mubeta_labels, cv=cv, n_jobs=2)"
   ]
  },
  {
   "cell_type": "code",
   "execution_count": 40,
   "metadata": {},
   "outputs": [
    {
     "name": "stdout",
     "output_type": "stream",
     "text": [
      "mu band accuracy:  0.7017751479289941\n"
     ]
    }
   ],
   "source": [
    "print(\"mu band accuracy: \", muband_scores.mean())"
   ]
  }
 ],
 "metadata": {
  "kernelspec": {
   "display_name": "Python 3",
   "language": "python",
   "name": "python3"
  },
  "language_info": {
   "codemirror_mode": {
    "name": "ipython",
    "version": 3
   },
   "file_extension": ".py",
   "mimetype": "text/x-python",
   "name": "python",
   "nbconvert_exporter": "python",
   "pygments_lexer": "ipython3",
   "version": "3.9.2"
  },
  "orig_nbformat": 4
 },
 "nbformat": 4,
 "nbformat_minor": 2
}
